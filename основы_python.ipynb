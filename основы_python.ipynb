{
  "cells": [
    {
      "cell_type": "markdown",
      "metadata": {
        "id": "M-DGa20PaHnu"
      },
      "source": [
        "#Задача 1\n",
        "Написать функцию на вход которой подается строка, состоящая из латинских букв.\n",
        "Функция должна вернуть количество гласных букв (a, e, i, o, u) в этой строке. Написать тесты для кода"
      ]
    },
    {
      "cell_type": "code",
      "execution_count": 1,
      "metadata": {
        "id": "XvX8X_JJ6PCb"
      },
      "outputs": [
        {
          "name": "stderr",
          "output_type": "stream",
          "text": [
            ".\n",
            "----------------------------------------------------------------------\n",
            "Ran 1 test in 0.001s\n",
            "\n",
            "OK\n"
          ]
        },
        {
          "data": {
            "text/plain": [
              "<unittest.runner.TextTestResult run=1 errors=0 failures=0>"
            ]
          },
          "execution_count": 1,
          "metadata": {},
          "output_type": "execute_result"
        }
      ],
      "source": [
        "import unittest\n",
        "\n",
        "def count_vowels(word):\n",
        "    vowels = \"aeiouAEIOU\"\n",
        "    count = 0\n",
        "    for char in word:\n",
        "        if char in vowels:\n",
        "            count += 1\n",
        "    return count\n",
        "\n",
        "class TestCountVowels(unittest.TestCase):\n",
        "\n",
        "    def test_count_vowels(self):\n",
        "        self.assertEqual(count_vowels(\"hEllo\"), 2)\n",
        "        self.assertEqual(count_vowels(\"world\"), 1)\n",
        "        self.assertEqual(count_vowels(\"aeIUo\"), 5)\n",
        "        self.assertEqual(count_vowels(\"xyz\"), 0)\n",
        "        self.assertEqual(count_vowels(\"AEIOU\"), 5)\n",
        "        self.assertEqual(count_vowels(\"Python\"), 1)\n",
        "        self.assertEqual(count_vowels(\"qwertyuiopasdfghjklzxcvbnmQWERTYUIOPASDFGHJKLZXCVBNM\"), 10)\n",
        "        self.assertEqual(count_vowels(\"йцукхъ123\"), 0)\n",
        "        self.assertEqual(count_vowels(\"[]/'./I]\"), 1)\n",
        "\n",
        "unittest.TextTestRunner().run(unittest.defaultTestLoader.loadTestsFromTestCase(TestCountVowels))\n"
      ]
    },
    {
      "cell_type": "markdown",
      "metadata": {
        "id": "t2ClV_Y0bbr6"
      },
      "source": [
        "# Задача 2\n",
        "Написать функцию на вход, которой подается строка. Функция должна вернуть true, если\n",
        "каждый символ в строке встречается только 1 раз, иначе должна вернуть false. Написать тесты для кода"
      ]
    },
    {
      "cell_type": "code",
      "execution_count": 8,
      "metadata": {
        "id": "FppbECao6VIz"
      },
      "outputs": [
        {
          "name": "stderr",
          "output_type": "stream",
          "text": [
            ".\n",
            "----------------------------------------------------------------------\n",
            "Ran 1 test in 0.001s\n",
            "\n",
            "OK\n"
          ]
        },
        {
          "data": {
            "text/plain": [
              "<unittest.runner.TextTestResult run=1 errors=0 failures=0>"
            ]
          },
          "execution_count": 8,
          "metadata": {},
          "output_type": "execute_result"
        }
      ],
      "source": [
        "import unittest\n",
        "\n",
        "def all_unique(word):\n",
        "    return len(set(word)) == len(word) \n",
        "\n",
        "class TestAllUnique(unittest.TestCase):\n",
        "\n",
        "    def test_all_unique(self):\n",
        "        self.assertEqual(all_unique(\"hEllo\"), False)\n",
        "        self.assertEqual(all_unique(\"world\"), True)\n",
        "        self.assertEqual(all_unique(\"aeIUo\"), True)\n",
        "        self.assertEqual(all_unique(\"xyzy\"), False)\n",
        "        self.assertEqual(all_unique(\"AEIOU\"), True)\n",
        "        self.assertEqual(all_unique(\"Python\"), True)\n",
        "        self.assertEqual(all_unique(\"qwertyuiopasdfghjklzxcvbnmQWERTYUIOPASDFGHJKLZXCVBNM\"), True)\n",
        "        self.assertEqual(all_unique(\"йцукхъ123\"), True)\n",
        "        self.assertEqual(all_unique(\"[]/'./I]\"), False)\n",
        "\n",
        "unittest.TextTestRunner().run(unittest.defaultTestLoader.loadTestsFromTestCase(TestAllUnique))\n"
      ]
    },
    {
      "cell_type": "markdown",
      "metadata": {
        "id": "udRiIK1cdt6E"
      },
      "source": [
        "# Задача 3\n",
        "Написать функцию, которая принимает положительное число и возвращает количество\n",
        "бит равных 1 в этом числе. Написать тесты для кода"
      ]
    },
    {
      "cell_type": "code",
      "execution_count": 9,
      "metadata": {
        "id": "6tkfDJRz6dp_"
      },
      "outputs": [
        {
          "name": "stderr",
          "output_type": "stream",
          "text": [
            ".\n",
            "----------------------------------------------------------------------\n",
            "Ran 1 test in 0.001s\n",
            "\n",
            "OK\n"
          ]
        },
        {
          "data": {
            "text/plain": [
              "<unittest.runner.TextTestResult run=1 errors=0 failures=0>"
            ]
          },
          "execution_count": 9,
          "metadata": {},
          "output_type": "execute_result"
        }
      ],
      "source": [
        "import unittest\n",
        "\n",
        "def count_bits(n):\n",
        "    return bin(n).count('1')\n",
        "\n",
        "class TestCountBits(unittest.TestCase):\n",
        "\n",
        "    def test_count_bits(self):\n",
        "        self.assertEqual(count_bits(0), 0)\n",
        "        self.assertEqual(count_bits(1), 1)\n",
        "        self.assertEqual(count_bits(5), 2)\n",
        "        self.assertEqual(count_bits(7), 3)\n",
        "        self.assertEqual(count_bits(9), 2)\n",
        "        self.assertEqual(count_bits(1023), 10)\n",
        "\n",
        "unittest.TextTestRunner().run(unittest.defaultTestLoader.loadTestsFromTestCase(TestCountBits))\n"
      ]
    },
    {
      "cell_type": "markdown",
      "metadata": {
        "id": "26dDUz-Ae17N"
      },
      "source": [
        "# Задача 4\n",
        "Написать функцию, которая принимает положительное число. Функция должна вернуть то,\n",
        "сколько раз необходимо перемножать цифры числа или результат перемножения, чтобы\n",
        "получилось число состоящее из одной цифры.\n",
        "Например, для входного числа:\n",
        "· 39 функция должна вернуть 3, так как 3*9=27 => 2*7=14 => 1*4=4\n",
        "· 4 функция должна вернуть 0, так как число уже состоит из одной цифры\n",
        "· 999 функция должна вернуть 4, так как 9*9*9=729 => 7*2*9=126 => 1*2*6=12 =>\n",
        "1*2=2. Написать тесты для кода"
      ]
    },
    {
      "cell_type": "code",
      "execution_count": 10,
      "metadata": {
        "id": "BH1A_Mgi6i4G"
      },
      "outputs": [
        {
          "name": "stderr",
          "output_type": "stream",
          "text": [
            ".\n",
            "----------------------------------------------------------------------\n",
            "Ran 1 test in 0.001s\n",
            "\n",
            "OK\n"
          ]
        },
        {
          "data": {
            "text/plain": [
              "<unittest.runner.TextTestResult run=1 errors=0 failures=0>"
            ]
          },
          "execution_count": 10,
          "metadata": {},
          "output_type": "execute_result"
        }
      ],
      "source": [
        "import unittest\n",
        "\n",
        "def magic(n):\n",
        "    steps = 0\n",
        "    while n >= 10:\n",
        "        product = 1\n",
        "        for digit in str(n):\n",
        "            product *= int(digit)\n",
        "        n = product\n",
        "        steps += 1\n",
        "    return steps\n",
        "\n",
        "class TestMagic(unittest.TestCase):\n",
        "\n",
        "    def test_magic(self):\n",
        "        self.assertEqual(magic(39), 3)\n",
        "        self.assertEqual(magic(999), 4)\n",
        "        self.assertEqual(magic(1), 0)\n",
        "        self.assertEqual(magic(4), 0)\n",
        "        self.assertEqual(magic(25), 2)\n",
        "        self.assertEqual(magic(77), 4)\n",
        "\n",
        "unittest.TextTestRunner().run(unittest.defaultTestLoader.loadTestsFromTestCase(TestMagic))"
      ]
    },
    {
      "cell_type": "markdown",
      "metadata": {
        "id": "0nS-kIa8g8vd"
      },
      "source": [
        "# Задача 5\n",
        "Написать функцию, которая принимает два целочисленных вектора одинаковой длины и\n",
        "возвращает среднеквадратическое отклонение двух векторов. Написать тесты для кода"
      ]
    },
    {
      "cell_type": "code",
      "execution_count": 11,
      "metadata": {
        "id": "8iphx4LM6xbx"
      },
      "outputs": [
        {
          "name": "stderr",
          "output_type": "stream",
          "text": [
            ".\n",
            "----------------------------------------------------------------------\n",
            "Ran 1 test in 0.001s\n",
            "\n",
            "OK\n"
          ]
        },
        {
          "data": {
            "text/plain": [
              "<unittest.runner.TextTestResult run=1 errors=0 failures=0>"
            ]
          },
          "execution_count": 11,
          "metadata": {},
          "output_type": "execute_result"
        }
      ],
      "source": [
        "import unittest\n",
        "import math\n",
        "\n",
        "def mse(pred, true):\n",
        "    n = len(pred)\n",
        "    squared_diffs = [(pred[i] - true[i]) ** 2 for i in range(n)]\n",
        "    mean_squared_diff = sum(squared_diffs) / n\n",
        "    return math.sqrt(mean_squared_diff)\n",
        "\n",
        "class TestMSE(unittest.TestCase):\n",
        "\n",
        "    def test_mse(self):\n",
        "        self.assertEqual(mse([1, 2, 3], [1, 2, 3]), 0.0)\n",
        "        self.assertAlmostEqual(mse([1, 2, 3], [1, 3, 2]), 0.8165, places=4)\n",
        "        self.assertAlmostEqual(mse([100, 200, 300], [90, 210, 310]), 10.0, places=5)\n",
        "        self.assertAlmostEqual(mse([10, 20, 30, 40], [11, 19, 31, 39]), 1.0, places=5)\n",
        "\n",
        "unittest.TextTestRunner().run(unittest.defaultTestLoader.loadTestsFromTestCase(TestMSE))\n"
      ]
    },
    {
      "cell_type": "markdown",
      "metadata": {
        "id": "vpIPKL439zkw"
      },
      "source": [
        "# Задача 6\n",
        "Написать функцию, принимающая целое положительное число. Функция должна вернуть\n",
        "строку вида “(n1**p1)(n2**p2)…(nk**pk)” представляющая разложение числа на простые\n",
        "множители (если pi == 1, то выводить только ni).\n",
        "Например, для числа 86240 функция должна вернуть “(2**5)(5)(7**2)(11)”. Написать тесты для кода"
      ]
    },
    {
      "cell_type": "code",
      "execution_count": 12,
      "metadata": {
        "id": "pFebmcZk94Jw"
      },
      "outputs": [
        {
          "name": "stderr",
          "output_type": "stream",
          "text": [
            "....\n",
            "----------------------------------------------------------------------\n",
            "Ran 4 tests in 0.002s\n",
            "\n",
            "OK\n"
          ]
        },
        {
          "data": {
            "text/plain": [
              "<unittest.runner.TextTestResult run=4 errors=0 failures=0>"
            ]
          },
          "execution_count": 12,
          "metadata": {},
          "output_type": "execute_result"
        }
      ],
      "source": [
        "import unittest\n",
        "\n",
        "def factorize(n):\n",
        "    divisors = []\n",
        "    i = 2\n",
        "\n",
        "    while i * i <= n:\n",
        "        count = 0\n",
        "        while n % i == 0:\n",
        "            n //= i\n",
        "            count += 1\n",
        "        if count:\n",
        "            divisors.append((i, count))\n",
        "        i += 1\n",
        "\n",
        "    if n > 1:\n",
        "        divisors.append((n, 1))\n",
        "\n",
        "    result = \"\"\n",
        "    for base, exp in divisors:\n",
        "        if exp > 1:\n",
        "            result += f\"({base}**{exp})\"\n",
        "        else:\n",
        "            result += f\"({base})\"\n",
        "    return result\n",
        "\n",
        "class TestFactorize(unittest.TestCase):\n",
        "\n",
        "    def test_factorize(self):\n",
        "        self.assertEqual(factorize(86240), \"(2**5)(5)(7**2)(11)\")\n",
        "        self.assertEqual(factorize(360), \"(2**3)(3**2)(5)\")\n",
        "        self.assertEqual(factorize(17), \"(17)\")\n",
        "        self.assertEqual(factorize(100), \"(2**2)(5**2)\")\n",
        "        self.assertEqual(factorize(2), \"(2)\")\n",
        "\n",
        "    def test_large_number(self):\n",
        "        self.assertEqual(factorize(123456), \"(2**6)(3)(643)\")\n",
        "\n",
        "    def test_prime_number(self):\n",
        "        self.assertEqual(factorize(13), \"(13)\")\n",
        "\n",
        "    def test_small_number(self):\n",
        "        self.assertEqual(factorize(1), \"\")\n",
        "\n",
        "unittest.TextTestRunner().run(unittest.defaultTestLoader.loadTestsFromTestCase(TestFactorize))\n"
      ]
    },
    {
      "cell_type": "markdown",
      "metadata": {
        "id": "ps2s0BudX7A2"
      },
      "source": [
        "# Задача 7\n",
        "Написать функцию, принимающая целое число n, задающее количество кубиков. Функция\n",
        "должна определить, можно ли из данного кол-ва кубиков построить пирамиду, то есть\n",
        "можно ли представить число n как 1^2+2^2+3^2+…+k^2. Если можно, то функция должна\n",
        "вернуть k, иначе строку “It is impossible”. Написать тесты для кода"
      ]
    },
    {
      "cell_type": "code",
      "execution_count": 13,
      "metadata": {
        "id": "3YPjEXxhX_YT"
      },
      "outputs": [
        {
          "name": "stderr",
          "output_type": "stream",
          "text": [
            ".\n",
            "----------------------------------------------------------------------\n",
            "Ran 1 test in 0.001s\n",
            "\n",
            "OK\n"
          ]
        },
        {
          "data": {
            "text/plain": [
              "<unittest.runner.TextTestResult run=1 errors=0 failures=0>"
            ]
          },
          "execution_count": 13,
          "metadata": {},
          "output_type": "execute_result"
        }
      ],
      "source": [
        "import unittest\n",
        "\n",
        "def can_build_pyramid(n):\n",
        "    total_cubes = 0\n",
        "    k = 0\n",
        "\n",
        "    while total_cubes < n:\n",
        "        k += 1\n",
        "        total_cubes += k * k\n",
        "\n",
        "        if total_cubes == n:\n",
        "            return k\n",
        "\n",
        "    return \"It is impossible\"\n",
        "\n",
        "class TestCanBuildPyramid(unittest.TestCase):\n",
        "\n",
        "    def test_pyramids(self):\n",
        "        self.assertEqual(can_build_pyramid(14), 3)\n",
        "        self.assertEqual(can_build_pyramid(30), 4)\n",
        "        self.assertEqual(can_build_pyramid(55), 5)\n",
        "        self.assertEqual(can_build_pyramid(5), 2)\n",
        "        self.assertEqual(can_build_pyramid(20), \"It is impossible\")\n",
        "        self.assertEqual(can_build_pyramid(1), 1)\n",
        "        self.assertEqual(can_build_pyramid(0), \"It is impossible\")\n",
        "\n",
        "unittest.TextTestRunner().run(unittest.defaultTestLoader.loadTestsFromTestCase(TestCanBuildPyramid))\n"
      ]
    },
    {
      "cell_type": "markdown",
      "metadata": {
        "id": "KeKgmIdAQMEJ"
      },
      "source": [
        "# Задача 8\n",
        "Функция принимает на вход положительное число и определяет является ли оно сбалансированным, т.е. сумма цифр до средних равна сумме цифр после. Средними в случае нечетного числа цифр считать одну цифру, в случае четного - две средних. Написать тесты для кода"
      ]
    },
    {
      "cell_type": "code",
      "execution_count": 16,
      "metadata": {
        "id": "gMAAqtqlQrZt"
      },
      "outputs": [
        {
          "name": "stderr",
          "output_type": "stream",
          "text": [
            ".\n",
            "----------------------------------------------------------------------\n",
            "Ran 1 test in 0.001s\n",
            "\n",
            "OK\n"
          ]
        },
        {
          "data": {
            "text/plain": [
              "<unittest.runner.TextTestResult run=1 errors=0 failures=0>"
            ]
          },
          "execution_count": 16,
          "metadata": {},
          "output_type": "execute_result"
        }
      ],
      "source": [
        "import unittest\n",
        "\n",
        "def balanced_number(n):\n",
        "    digits = str(n)\n",
        "    length = len(digits)\n",
        "\n",
        "    if length % 2 == 0:\n",
        "        mid = length // 2\n",
        "        left_sum = sum(int(digits[i]) for i in range(mid - 1)) + int(digits[mid - 1])\n",
        "        right_sum = sum(int(digits[i]) for i in range(mid, length))\n",
        "    else:\n",
        "        mid = length // 2\n",
        "        left_sum = sum(int(digits[i]) for i in range(mid))\n",
        "        right_sum = sum(int(digits[i]) for i in range(mid + 1, length))\n",
        "\n",
        "    return left_sum == right_sum\n",
        "\n",
        "class TestBalancedNumber(unittest.TestCase):\n",
        "\n",
        "    def test_balanced_numbers(self):\n",
        "        self.assertTrue(balanced_number(12321))\n",
        "        self.assertTrue(balanced_number(1234321))\n",
        "        self.assertTrue(balanced_number(2468642))\n",
        "        self.assertFalse(balanced_number(123))\n",
        "        self.assertFalse(balanced_number(56789))\n",
        "        self.assertTrue(balanced_number(13531))\n",
        "        self.assertTrue(balanced_number(1))\n",
        "        self.assertTrue(balanced_number(22))\n",
        "        self.assertFalse(balanced_number(23))\n",
        "\n",
        "unittest.TextTestRunner().run(unittest.defaultTestLoader.loadTestsFromTestCase(TestBalancedNumber))\n"
      ]
    }
  ],
  "metadata": {
    "colab": {
      "provenance": []
    },
    "kernelspec": {
      "display_name": "Python 3",
      "name": "python3"
    },
    "language_info": {
      "codemirror_mode": {
        "name": "ipython",
        "version": 3
      },
      "file_extension": ".py",
      "mimetype": "text/x-python",
      "name": "python",
      "nbconvert_exporter": "python",
      "pygments_lexer": "ipython3",
      "version": "3.12.7"
    }
  },
  "nbformat": 4,
  "nbformat_minor": 0
}
